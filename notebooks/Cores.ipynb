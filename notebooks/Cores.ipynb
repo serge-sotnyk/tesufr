{
 "cells": [
  {
   "cell_type": "code",
   "execution_count": 1,
   "metadata": {
    "pycharm": {
     "is_executing": false
    }
   },
   "outputs": [],
   "source": [
    "import sys\n",
    "sys.path.append('..')"
   ]
  },
  {
   "cell_type": "code",
   "execution_count": 2,
   "metadata": {
    "pycharm": {
     "is_executing": false
    }
   },
   "outputs": [
    {
     "name": "stderr",
     "output_type": "stream",
     "text": [
      "WARNING:root:Could not import signal.SIGPIPE (this is expected on Windows machines)\n"
     ]
    }
   ],
   "source": [
    "from tesufr import Processor, TextProcessParams, SummarySize\n",
    "from tesufr.cores import SummaCore, FallbackCore\n",
    "from tesufr.cores.em_core import EmCoresWrapper\n",
    "from tesufr.corpora.providers import BbcNewsProvider, Krapivin2009Provider, LimitedProvider\n",
    "from tesufr.keysum_evaluator import evaluate_processor_on_corpus\n",
    "from tesufr.corpora import SetType, CorpusDocument, CorpusPurpose"
   ]
  },
  {
   "cell_type": "code",
   "execution_count": 3,
   "metadata": {
    "pycharm": {
     "is_executing": false
    }
   },
   "outputs": [],
   "source": [
    "processor_baseline = Processor([FallbackCore()])\n",
    "processor_summa = Processor([SummaCore()])\n",
    "processor_em = Processor([EmCoresWrapper()])"
   ]
  },
  {
   "cell_type": "code",
   "execution_count": 4,
   "metadata": {},
   "outputs": [],
   "source": [
    "def process_and_report(text, process_params, processor):\n",
    "    doc = processor.process_text(text, process_params)\n",
    "    print('====================================')\n",
    "    print(\"Keywords: \"+' | '.join([str(kw) for kw in doc.keywords]))\n",
    "    print()\n",
    "    print(\"Named entities:\")\n",
    "    for ne in doc.entities:\n",
    "        print(f\"{ne.lemma} ({ne.subkind})\")\n",
    "    print()\n",
    "    print(f\"Summary ({len(doc.summary)}):\")\n",
    "    for s in doc.summary:\n",
    "        print(\"* \"+s.lemma)"
   ]
  },
  {
   "cell_type": "code",
   "execution_count": 5,
   "metadata": {},
   "outputs": [
    {
     "name": "stdout",
     "output_type": "stream",
     "text": [
      "Why we are addicted to conspiracy theories\n",
      "Outsiders and the disenfranchised have always embraced the existence of wild plots and cover-ups. But now the biggest conspiracy-mongers are in charge.\n",
      "\n",
      "By A\n"
     ]
    }
   ],
   "source": [
    "# https://www.theguardian.com/us-news/2019/may/02/why-we-are-addicted-to-conspiracy-theories\n",
    "text_en = open('theguardian.txt', 'rt', encoding='utf-8').read()\n",
    "print(text_en[:200])"
   ]
  },
  {
   "cell_type": "code",
   "execution_count": 6,
   "metadata": {},
   "outputs": [
    {
     "name": "stdout",
     "output_type": "stream",
     "text": [
      "====================================\n",
      "Keywords: 0:'that'(81) | 0:'conspiracy'(35) | 0:'they'(31) | 0:'Jones'(24) | 0:'people'(20) | 0:'have'(19) | 0:'about'(18) | 0:'Trump'(18) | 0:'with'(17) | 0:'group'(16)\n",
      "\n",
      "Named entities:\n",
      "\n",
      "Summary (15):\n",
      "* Why we are addicted to conspiracy theories\n",
      "* Outsiders and the disenfranchised have always embraced the existence of wild plots and cover-ups.\n",
      "* But now the biggest conspiracy-mongers are in charge.\n",
      "* By Anna Merlan\n",
      "* In January 2015, I spent the longest, queasiest week of my life on a cruise ship filled with conspiracy theorists.\n",
      "* As our boat rattled toward Mexico and back, I heard about every wild plot, secret plan and dark cover-up imaginable.\n",
      "* It was mostly fascinating, occasionally exasperating and the cause of a headache that took months to fade.\n",
      "* To my pleasant surprise, given that I was a reporter travelling among a group of deeply suspicious people, I was accused of working for the CIA only once.\n",
      "* The unshakeable certainty possessed by many of the conspiracy theorists sometimes made me want to tear my hair out, how tightly they clung to the strangest and most far-fetched ideas.\n",
      "* I was pretty sure they had lost their hold on reality as a result of being permanently and immovably on the fringes of American life.\n",
      "* I felt bad for them and, to be honest, a little superior.\n",
      "* “The things that everyone thinks are crazy now, the mainstream will pick up on them,” proclaimed Sean David Morton early in the trip.\n",
      "* “Twenty sixteen is going to be one of those pivotal years, not just in human history, but in American history as well.”\n",
      "* Morton is a self-proclaimed psychic and UFO expert, and someone who has made a lot of dubious claims about how to beat government agencies such as the IRS in court.\n",
      "* (In 2017, he was sentenced to six years in prison for tax fraud.)\n"
     ]
    }
   ],
   "source": [
    "tpp = TextProcessParams(SummarySize.new_relative(0.1), 10)\n",
    "process_and_report(text_en, tpp, processor_baseline)"
   ]
  },
  {
   "cell_type": "code",
   "execution_count": 7,
   "metadata": {},
   "outputs": [
    {
     "name": "stdout",
     "output_type": "stream",
     "text": [
      "====================================\n",
      "Keywords: 0:'conspiracy'(0) | 0:'conspiracies'(0) | 0:'health'(0) | 0:'trump'(0) | 0:'group'(0) | 0:'groups'(0) | 0:'jones'(0) | 0:'medical'(0) | 0:'people'(0) | 0:'products'(0) | 0:'product'(0) | 0:'vaccines'(0) | 0:'vaccinate'(0) | 0:'vaccine'(0) | 0:'politics'(0) | 0:'political'(0)\n",
      "\n",
      "Named entities:\n",
      "\n",
      "Summary (14):\n",
      "* Jones also made less adorably kooky claims: that a number of mass shootings and acts of terrorism, such as the 1995 Oklahoma City bombing, were faked by the government; that the CEO of Chobani, the yogurt company, was busy importing “migrant rapists” to work at its Idaho plant; that Hillary Clinton is an actual demon who smells of sulphur, hails from Hell itself and has “personally murdered and chopped up and raped” little children.\n",
      "* Soon after, the US narrowly elected a conspiracy enthusiast as its president, a man who wrongly believes that vaccines cause autism, that global warming is a hoax perpetuated by the Chinese “in order to make US manufacturing non-competitive,” as he tweeted in 2012, and who claimed, for attention and political gain, that Barack Obama was born in Kenya.\n",
      "* Many of the hardcore conspiracy theorists I sailed with on the Conspira-Sea Cruise weren’t very engaged in politics, given that they believe it’s a fake system designed to give us the illusion of control by our real overlords – the Illuminati, the international bankers or perhaps the giant lizard people.\n",
      "* Trump’s fondness for conspiracy continued apace into his presidency: his Twitter account became a megaphone for every dark suspicion he has about the biased media and the rigged government working against him.\n",
      "* At the same time, Trump brought a raft of conspiracy theorists into his cabinet: among them was secretary of housing and urban development Ben Carson, who suggested that President Obama would declare martial law and cancel the 2016 elections to remain in power.\n",
      "* We have seen a sizeable number of real conspiracies revealed over the past half century, from Watergate to recently declassified evidence of secret CIA programmes, to the fact that elements within the Russian government really did conspire to interfere with US elections.\n",
      "* But while conspiracy theories are as old as the US itself, there is something new at work: people who peddle lies and half-truths have come to prominence, fame and power as never before.\n",
      "* If the conspiratorial world is a vast ocean, 2016 was clearly the year that Alex Jones – along with other groups, such as anti-immigration extremists, anti-Muslim thinktanks and open neo-Nazis and white supremacists – were able to catch the wave of the Trump presidency and surf to the mainstream shore.\n",
      "* An actual conspiracy is when a small group of people are working in secret against the common good – and anyone who tells you we can always easily distinguish fictitious plots from real ones probably hasn’t read much history.\n",
      "* Medical conspiracy theories are big, profitable business: an uptick in the belief that the government is hiding a cure for cancer has led people back to buying laetrile, a discredited fake drug popular in the 1970s.\n",
      "* The anti-vaccine movement is the most successful medical conspiracy – persistent, lucrative and perpetually able to net new believers in spite of scientific evidence.\n",
      "* It is also emblematic of all such conspiracy theories: people get caught up in them through either grief or desperation, exacerbated by the absence of hard answers and suspicion about whether a large and often coldly impersonal medical system is looking out for their best interests.\n",
      "* Global Healing Center’s CEO, Dr Edward Group, is also Jones’s go-to health expert, regularly appearing on the programme to opine about vaccines (he thinks they are bad) and fungus (the root of all evil – luckily, one of the supplements that Jones and Group sell helps banish it from the body).\n",
      "* (Jones and Group acknowledge on InfoWars that this can happen, but only when people are using silver incorrectly.) Jones and their ilk complain that they are under attack by the media, the government and some shadowy third entities for telling truths too powerful to ignore.\n"
     ]
    }
   ],
   "source": [
    "process_and_report(text_en, tpp, processor_summa)"
   ]
  },
  {
   "cell_type": "code",
   "execution_count": 8,
   "metadata": {},
   "outputs": [
    {
     "name": "stderr",
     "output_type": "stream",
     "text": [
      "WARNING:smart_open.smart_open_lib:this function is deprecated, use smart_open.open instead\n"
     ]
    },
    {
     "name": "stdout",
     "output_type": "stream",
     "text": [
      "====================================\n",
      "Keywords: 0:'conspiracy theorist'(8) | 0:'suspicious people'(1) | 0:'human health'(1) | 0:'medical conspiracy thinking'(1) | 0:'reliable persistence'(1)\n",
      "\n",
      "Named entities:\n",
      "Anna Merlan (PERSON)\n",
      "January 2015 (DATE)\n",
      "Mexico (GPE)\n",
      "month (DATE)\n",
      "CIA (ORG)\n",
      "american (NORP)\n",
      "Sean David Morton (PERSON)\n",
      "Twenty sixteen (DATE)\n",
      "Morton (ORG)\n",
      "IRS (ORG)\n",
      "2017 (DATE)\n",
      "six year (DATE)\n",
      "about 2016 (CARDINAL)\n",
      "Morton (PERSON)\n",
      "US (GPE)\n",
      "Sandy Hook (PERSON)\n",
      "Matthew (PERSON)\n",
      "the Conspira - Sea Cruise (FAC)\n",
      "Jezebel (PERSON)\n",
      "July 2016 (DATE)\n",
      "Cleveland (GPE)\n",
      "Ohio (GPE)\n",
      "thousand (CARDINAL)\n",
      "Donald Trump (PERSON)\n",
      "republican (NORP)\n",
      "anti - Hillary Clinton (PERSON)\n",
      "TRUMP (ORG)\n",
      "HILLARY (ORG)\n",
      "SUCKS (PRODUCT)\n",
      "InfoWars (ORG)\n",
      "Austin (GPE)\n",
      "Texas (GPE)\n",
      "Alex Jones (PERSON)\n",
      "many year (DATE)\n",
      "Jones (PERSON)\n",
      "Barack Obama (PERSON)\n",
      "Kenya (GPE)\n",
      "Jim Watson (PERSON)\n",
      "AFP / Getty (ORG)\n",
      "1995 (DATE)\n",
      "Oklahoma City (GPE)\n",
      "Chobani (NORP)\n",
      "Idaho (GPE)\n",
      "Hillary Clinton (PERSON)\n",
      "Trump (ORG)\n",
      "one (CARDINAL)\n",
      "first (ORDINAL)\n",
      "Jones ’s (PRODUCT)\n",
      "Skype (ORG)\n",
      "Trump Tower (FAC)\n",
      "Clinton (PERSON)\n",
      "the latter day (DATE)\n",
      "the end of September (DATE)\n",
      "October (DATE)\n",
      "Chinese (NORP)\n",
      "2012 (DATE)\n",
      "the White House (FAC)\n",
      "Illuminati (GPE)\n",
      "Bernie Sanders (ORG)\n",
      "Americans (NORP)\n",
      "Hillary ” (PERSON)\n",
      "Washington (GPE)\n",
      "2016 (DATE)\n",
      "Puerto Rico (GPE)\n",
      "Hurricane Maria (PERSON)\n",
      "the White House (ORG)\n",
      "Ben Carson (PERSON)\n",
      "Obama (PERSON)\n",
      "National Security (ORG)\n",
      "Michael Flynn (PERSON)\n",
      "Kennedy (PERSON)\n",
      "year (DATE)\n",
      "the 1960s (DATE)\n",
      "decade (DATE)\n",
      "the early 1990 (DATE)\n",
      "Clintons (PERSON)\n",
      "Sarah Palin (PERSON)\n",
      "2009 (DATE)\n",
      "Obamacare (ORG)\n",
      "trump (ORG)\n",
      "Jesse Walker (PERSON)\n",
      "the United States (GPE)\n",
      "Paranoia (GPE)\n",
      "Cotton Mather (PERSON)\n",
      "Native Americans (NORP)\n",
      "Walker (PERSON)\n",
      "Jeffrey Pasley (PERSON)\n",
      "Native (PERSON)\n",
      "indian (NORP)\n",
      "ten of thousand (CARDINAL)\n",
      "’s (ORG)\n",
      "the past half century (DATE)\n",
      "Watergate (EVENT)\n",
      "russian (NORP)\n",
      "half (CARDINAL)\n",
      "the year (DATE)\n",
      "anti - muslim (NORP)\n",
      "neo - nazi (NORP)\n",
      "million (CARDINAL)\n",
      "1980 (DATE)\n",
      "Frank Donner (PERSON)\n",
      "the past few year (DATE)\n",
      "2018 (DATE)\n",
      "George Washington University (ORG)\n",
      "two year later (DATE)\n",
      "the 1970 (DATE)\n",
      "multimillion - dollar (MONEY)\n",
      "2014 (DATE)\n",
      "University of Chicago (ORG)\n",
      "Eric Oliver (PERSON)\n",
      "Thomas Wood (PERSON)\n",
      "1,351 (CARDINAL)\n",
      "37 % (PERCENT)\n",
      "the US Food and Drug Administration (ORG)\n",
      "20 % (PERCENT)\n",
      "another 20 % (PERCENT)\n",
      "Big Vaccine (ORG)\n",
      "InfoWars Life Health Store (ORG)\n",
      "Jones ’s (ORG)\n",
      "Houston (GPE)\n",
      "the Global Healing Center (ORG)\n",
      "Global Healing Center (ORG)\n",
      "Edward Group (PERSON)\n",
      "Jones and Group (ORG)\n",
      "MIT (ORG)\n",
      "Harvard (ORG)\n",
      "a few year ago (DATE)\n",
      "Group (ORG)\n",
      "the Joseph LaFortune School of Medicine (ORG)\n",
      "the LaFortune School (ORG)\n",
      "Haiti (GPE)\n",
      "2017 (CARDINAL)\n",
      "FDA (ORG)\n",
      "FTC (ORG)\n",
      "the end of the day (DATE)\n",
      "Silver Bullet (PERSON)\n",
      "half a gallon (QUANTITY)\n",
      "10 part per million (CARDINAL)\n",
      "10 or 15 day (DATE)\n",
      "\" Group (ORG)\n",
      "the Mayo Clinic (ORG)\n",
      "third (ORDINAL)\n",
      "Quartz (ORG)\n",
      "Goop (ORG)\n",
      "Gwyneth Paltrow (PERSON)\n",
      "’s David (PERSON)\n",
      "Wolfe (PERSON)\n",
      "Goop (PERSON)\n",
      "Jen Gunter (PERSON)\n",
      "two (CARDINAL)\n",
      "Goop (GPE)\n",
      "October 2017 (DATE)\n",
      "the Center for Environmental Health (ORG)\n",
      "caveman true Paleo Formula (ORG)\n",
      "Myco - ZX (ORG)\n",
      "Myco - ZX (PERSON)\n",
      "Michael Green (PERSON)\n",
      "\n",
      "Summary (14):\n",
      "* Jones also made less adorably kooky claims: that a number of mass shootings and acts of terrorism, such as the 1995 Oklahoma City bombing, were faked by the government; that the CEO of Chobani, the yogurt company, was busy importing “migrant rapists” to work at its Idaho plant; that Hillary Clinton is an actual demon who smells of sulphur, hails from Hell itself and has “personally murdered and chopped up and raped” little children.\n",
      "* Soon after, the US narrowly elected a conspiracy enthusiast as its president, a man who wrongly believes that vaccines cause autism, that global warming is a hoax perpetuated by the Chinese “in order to make US manufacturing non-competitive,” as he tweeted in 2012, and who claimed, for attention and political gain, that Barack Obama was born in Kenya.\n",
      "* Many of the hardcore conspiracy theorists I sailed with on the Conspira-Sea Cruise weren’t very engaged in politics, given that they believe it’s a fake system designed to give us the illusion of control by our real overlords – the Illuminati, the international bankers or perhaps the giant lizard people.\n",
      "* Trump’s fondness for conspiracy continued apace into his presidency: his Twitter account became a megaphone for every dark suspicion he has about the biased media and the rigged government working against him.\n",
      "* At the same time, Trump brought a raft of conspiracy theorists into his cabinet: among them was secretary of housing and urban development Ben Carson, who suggested that President Obama would declare martial law and cancel the 2016 elections to remain in power.\n",
      "* We have seen a sizeable number of real conspiracies revealed over the past half century, from Watergate to recently declassified evidence of secret CIA programmes, to the fact that elements within the Russian government really did conspire to interfere with US elections.\n",
      "* But while conspiracy theories are as old as the US itself, there is something new at work: people who peddle lies and half-truths have come to prominence, fame and power as never before.\n",
      "* If the conspiratorial world is a vast ocean, 2016 was clearly the year that Alex Jones – along with other groups, such as anti-immigration extremists, anti-Muslim thinktanks and open neo-Nazis and white supremacists – were able to catch the wave of the Trump presidency and surf to the mainstream shore.\n",
      "* An actual conspiracy is when a small group of people are working in secret against the common good – and anyone who tells you we can always easily distinguish fictitious plots from real ones probably hasn’t read much history.\n",
      "* Medical conspiracy theories are big, profitable business: an uptick in the belief that the government is hiding a cure for cancer has led people back to buying laetrile, a discredited fake drug popular in the 1970s.\n",
      "* The anti-vaccine movement is the most successful medical conspiracy – persistent, lucrative and perpetually able to net new believers in spite of scientific evidence.\n",
      "* It is also emblematic of all such conspiracy theories: people get caught up in them through either grief or desperation, exacerbated by the absence of hard answers and suspicion about whether a large and often coldly impersonal medical system is looking out for their best interests.\n",
      "* Global Healing Center’s CEO, Dr Edward Group, is also Jones’s go-to health expert, regularly appearing on the programme to opine about vaccines (he thinks they are bad) and fungus (the root of all evil – luckily, one of the supplements that Jones and Group sell helps banish it from the body).\n",
      "* (Jones and Group acknowledge on InfoWars that this can happen, but only when people are using silver incorrectly.) Jones and their ilk complain that they are under attack by the media, the government and some shadowy third entities for telling truths too powerful to ignore.\n"
     ]
    }
   ],
   "source": [
    "process_and_report(text_en, tpp, processor_em)"
   ]
  },
  {
   "cell_type": "code",
   "execution_count": 9,
   "metadata": {
    "scrolled": true
   },
   "outputs": [
    {
     "name": "stdout",
     "output_type": "stream",
     "text": [
      "Warum Freiheit, warum Demokratie?\n",
      "EIN GASTBEITRAG VON OTTO DEPENHEUER am 24. Mai 2019\n",
      "\n",
      "Zu seinem 70. Geburtstag wollen die Lobeshymnen auf das Grundgesetz nicht enden. Doch damit einher geht auch die \n"
     ]
    }
   ],
   "source": [
    "# https://www.cicero.de/innenpolitik/grundgesetz-freiheit-demokratie-meinungsfreiheit-debattenkultur\n",
    "text_de = open('cicero1.txt', encoding='utf-8').read()\n",
    "print(text_de[:200])"
   ]
  },
  {
   "cell_type": "code",
   "execution_count": 10,
   "metadata": {
    "scrolled": false
   },
   "outputs": [
    {
     "name": "stderr",
     "output_type": "stream",
     "text": [
      "WARNING:smart_open.smart_open_lib:this function is deprecated, use smart_open.open instead\n"
     ]
    },
    {
     "name": "stdout",
     "output_type": "stream",
     "text": [
      "====================================\n",
      "Keywords: 0:'grundgesetzlichen Demokratie'(1) | 0:'vorgegeben Wahrheit'(1) | 0:'verfassungsrechtlich Problem'(1) | 0:'Selbstbestimmung'(1) | 0:'Frage'(2) | 0:'Selbstverständnis'(1) | 0:'politisch Grundfragen'(1)\n",
      "\n",
      "Named entities:\n",
      "EIN GASTBEITRAG (MISC)\n",
      "OTTO DEPENHEUER (ORG)\n",
      "Chemnitz (LOC)\n",
      "AUTORENINFO (ORG)\n",
      "Otto Depenheuer (PER)\n",
      "Universität von Köln (ORG)\n",
      "kein Verfassung Deutschland (MISC)\n",
      "Bundesrepublik Deutschland (LOC)\n",
      "Kraft (LOC)\n",
      "Zeit (MISC)\n",
      "Aufstiegs (MISC)\n",
      "Wohlstand (LOC)\n",
      "Deutschland (LOC)\n",
      "GG-Jubiläen (LOC)\n",
      "“ (LOC)\n",
      "Folgende (MISC)\n",
      "verfassungsrechtlich (MISC)\n",
      "Bibel (MISC)\n",
      "Problem (LOC)\n",
      "146 GG (MISC)\n",
      "erden (LOC)\n",
      "Rahmendaten (LOC)\n",
      "deutsch (MISC)\n",
      "Staat (LOC)\n",
      "Lobhudelei (LOC)\n",
      "Glaubt (PER)\n",
      "Deutsche Bundestag (ORG)\n",
      "EURO-Rettung (MISC)\n",
      "CO2-Ausstoss (MISC)\n",
      "demokratische (MISC)\n",
      "Befund (LOC)\n",
      "demokratisch (MISC)\n",
      "Frankfurter Allgemeine Zeitung (ORG)\n",
      "“ (PER)\n",
      "Meinungsspektrum (LOC)\n",
      "Mitreden (LOC)\n",
      "Abstimmen (LOC)\n",
      "Reformation (MISC)\n",
      "Hegel (LOC)\n",
      "modern Staat (LOC)\n",
      "Mehrheitsprinzips (MISC)\n",
      "Rechtsgesetze (PER)\n",
      "Kant (PER)\n",
      "beid (PER)\n",
      "Willkür (PER)\n",
      "Luhmann (PER)\n",
      "Demokratie in Gefahr (MISC)\n",
      "Verfassung (MISC)\n",
      "Wünsch-Dir-Was-Demokratie “ (PER)\n",
      "– Argumentieren (PER)\n",
      "Demokratie (PER)\n",
      "Goethe (PER)\n",
      "Andersdenkender “ (PER)\n",
      "Konrad Adenauer (PER)\n",
      "Nachdenken (LOC)\n",
      "Gemeinwesen (LOC)\n",
      "mögen (PER)\n",
      "Otto Depenheuers (PER)\n",
      "der glücken der Grundgesetzes “ (MISC)\n",
      "Bundesrates (MISC)\n",
      "Parlamentarische Rat (MISC)\n",
      "Grungesetz (MISC)\n",
      "\n",
      "Summary (8):\n",
      "* Man könnte das alles als Marotte abtun, wenn es nicht faktische Folgen hat: ich nenne nur die Gefahren satter Selbstzufriedenheit, die kategorische Unterschutzstellung verfassungsrechtlicher Errungenschaften mit der Folge einer zunehmenden Sklerosierung und Moralisierung der politischen Debatte.\n",
      "* Wenn aber derart die wirkliche politische Debatte verkümmert oder schon gar nicht mehr stattfindet, dann verwundert es schon weniger, wenn die Unterhaltungsindustrie Ersatzangebote für das demokratische Engagement in Form des beliebigen Mitredens und Abstimmens bereitstellt: Man spielt Demokratie, während sie uns gleichzeitig aus den Händen entgleitet.\n",
      "* Im Ergebnis können sich die Menschen seither nur noch für sich selbst, nicht aber mehr als politische Gemeinschaft an Gott oder einer vorgegebenen Wahrheit orientieren.\n",
      "* Dieser Befund hat aber auch sein Gutes: Wenn alle wissen, dass nicht nur wir selbst, sondern alle anderen die Wahrheit nicht kennen, dann empfiehlt es sich, dem anderen auch zuhören, dann wird es interessant, was und warum er etwas anderes sagt und denkt als man selbst, kurz: man kann im und durch Gespräch und Diskussionen „lernen“ und gute Lösungen für allfällige Probleme finden.\n",
      "* Wenn in dieser Debatte nicht mehr jede ernsthafte Meinung anderer unvoreingenommen zur Kenntnis genommen wird, man sich nicht mehr ergebnisoffen auseinandersetzt, sondern abweichende Meinungen moralisch diskreditiert oder in Form der political correctness zum Schweigen bringt, dann gerät die Demokratie ernsthaft in Gefahr: dann erhebt wiederum ein neuer Wahrheitsanspruch  im Gewand moralischer Überlegenheit einen Herrschaftsanspruch.\n",
      "* Maßstab für eine lebendige Demokratie ist also nicht eine „Wünsch-Dir-Was-Demokratie“, sondern eine, die sich selbst immer wieder kritisch die politischen Grundfragen an sich selbst stellt, um sich in der Zeit erfolgreich zu behaupten.\n",
      "* Mir scheint, dass wir auch heute wieder mehr authentischen Persönlichkeiten in und außerhalb des Parlaments brauchen, die zuhören wollen, nachdenken können, und die die „ehrliche Meinung Andersdenkender“ (Konrad Adenauer) nicht vorschnell abtun, nicht moralisch diskreditieren oder in die Fallgruben der politicall correctness laufen lassen, sondern sie zum Gegenstand eigenen Nachdenkens, des Verstehens machen und sich dann eine eigene Meinung bilden und diese wiederum in die Debatte einführen.\n",
      "* Gerade heute, wo große Teile der Bevölkerung der öffentlichen Diskussion misstrauen, erscheint mir diese für den Zusammenhalt des Gemeinwesens so zentrale Integration aller Meinungen, das agree to disagree, dringend und notwendiger zu sein denn je.\n"
     ]
    }
   ],
   "source": [
    "tpp = TextProcessParams(SummarySize.new_relative(0.1), 10)\n",
    "process_and_report(text_de, tpp, processor_em)"
   ]
  },
  {
   "cell_type": "code",
   "execution_count": null,
   "metadata": {},
   "outputs": [],
   "source": []
  }
 ],
 "metadata": {
  "kernelspec": {
   "display_name": "Python [conda env:tesurf] *",
   "language": "python",
   "name": "conda-env-tesurf-py"
  },
  "language_info": {
   "codemirror_mode": {
    "name": "ipython",
    "version": 3
   },
   "file_extension": ".py",
   "mimetype": "text/x-python",
   "name": "python",
   "nbconvert_exporter": "python",
   "pygments_lexer": "ipython3",
   "version": "3.6.8"
  },
  "pycharm": {
   "stem_cell": {
    "cell_type": "raw",
    "metadata": {
     "collapsed": false
    },
    "source": []
   }
  }
 },
 "nbformat": 4,
 "nbformat_minor": 2
}
